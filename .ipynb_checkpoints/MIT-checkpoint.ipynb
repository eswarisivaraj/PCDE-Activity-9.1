{
 "cells": [
  {
   "cell_type": "markdown",
   "metadata": {},
   "source": [
    "# The Massachusetts Institute of Technology (MIT)\n",
    "\n",
    "**Eswari Sivaraj - Student and eswarisivaraj git hub user name**\n",
    "\n",
    "The Massachusetts Institute of Technology (MIT) is a private university in Cambridge, Massachusetts. Established in 1861, MIT has since then been at the center of the development of modern technology and science. Since it was founded, MIT has been ranked among the top academic institutions in the world.\n",
    "\n",
    "The original MIT logo was created by William Barton Rogers In the center, there is a pedestal with a lamp – a symbol of knowledge. There is also a laurel wreath that symbolizes victory, and the number “1861” is the year when MIT was founded. The lamp stands on three volumes with the words “SCIENCE AND ARTS.” Below, under the pedestal, is another phrase: “MENS ET MANUS.” The university’s Latin motto is traditionally written on an unfolded scroll. It, like most print elements, denotes the connection between study and practical work. The images of the scientist and the master have the same meaning. One of them reads a thick book, and the second holds a large blacksmith’s hammer in his hands, placed on an anvil. The image below displays the original logo.\n",
    "\n",
    "The MIT logo began to be used only in 2003. Typographer Matthew Carter created it.\n",
    "\n",
    "**MIT Seal**\n",
    "<figure markdown>\n",
    "<img align=\"left\" src=\"MIT_Logo_PNG_old.png\" alt=\"isolated\" width=\"200\"/>\n",
    "</figure>\n",
    "\n",
    "**MIT Logo**\n",
    "<figure markdown>\n",
    "<img align=\"left\" src=\"MIT_Logo_PNG.png\" alt=\"isolated\" width=\"200\"/>\n",
    "</figure>\n",
    "\n",
    "\n"
   ]
  },
  {
   "cell_type": "code",
   "execution_count": null,
   "metadata": {},
   "outputs": [],
   "source": []
  }
 ],
 "metadata": {
  "kernelspec": {
   "display_name": "Python 3 (ipykernel)",
   "language": "python",
   "name": "python3"
  },
  "language_info": {
   "codemirror_mode": {
    "name": "ipython",
    "version": 3
   },
   "file_extension": ".py",
   "mimetype": "text/x-python",
   "name": "python",
   "nbconvert_exporter": "python",
   "pygments_lexer": "ipython3",
   "version": "3.9.13"
  }
 },
 "nbformat": 4,
 "nbformat_minor": 4
}
